{
 "cells": [
  {
   "cell_type": "code",
   "execution_count": 1,
   "id": "3c8d1beb",
   "metadata": {},
   "outputs": [
    {
     "name": "stdout",
     "output_type": "stream",
     "text": [
      "Twinkle, twinkle, little star,\n",
      "          How I wonder what you are!                       \n",
      "                Up above the world so high,                     \n",
      "                Like a diamond in the sky.\n",
      "Twinkle, twinkle, little star,\n",
      "          How I wonder what you are\n"
     ]
    }
   ],
   "source": [
    "# Q. Write a python programto print the following string in a specific format(see the otput).\n",
    "# Twinkle, twinkle, little star,\n",
    "#           How I wonder what you are!\n",
    "#                   up above the world so high\n",
    "#                         like a diamond in the sky\n",
    "\n",
    "print (\"\"\"Twinkle, twinkle, little star,\n",
    "          How I wonder what you are!                       \n",
    "                Up above the world so high,                     \n",
    "                Like a diamond in the sky.\n",
    "Twinkle, twinkle, little star,\n",
    "          How I wonder what you are\"\"\")\n"
   ]
  },
  {
   "cell_type": "code",
   "execution_count": 18,
   "id": "6bbbf7ae",
   "metadata": {},
   "outputs": [
    {
     "name": "stdout",
     "output_type": "stream",
     "text": [
      "....Display current version of python I'm using...\n",
      "The current version you Python you are using is 3.8.8\n"
     ]
    }
   ],
   "source": [
    "# Write a python program to get the python version you're using.\n",
    "print(\"....Display current version of python I'm using...\")\n",
    "import platform\n",
    "print(\"The current version you Python you are using is\",platform.python_version())\n"
   ]
  },
  {
   "cell_type": "code",
   "execution_count": 17,
   "id": "b9e9984b",
   "metadata": {},
   "outputs": [
    {
     "name": "stdout",
     "output_type": "stream",
     "text": [
      "......Display current date and time....\n",
      "Current date and time : \n",
      "2021-10-23 18:08:54\n"
     ]
    }
   ],
   "source": [
    "# Write a python program to display the current date and time.\n",
    "print(\"......Display current date and time....\")\n",
    "import datetime\n",
    "now = datetime.datetime.now()\n",
    "print (\"Current date and time : \")\n",
    "print (now.strftime(\"%Y-%m-%d %H:%M:%S\"))\n"
   ]
  },
  {
   "cell_type": "code",
   "execution_count": 16,
   "id": "d8ee259f",
   "metadata": {},
   "outputs": [
    {
     "name": "stdout",
     "output_type": "stream",
     "text": [
      "...Finding Area of Circle....\n",
      "Enter the radius of the Circle: 65.5\n",
      "Area of the Circle is : 13479.97\n"
     ]
    }
   ],
   "source": [
    "# Write a python program which accepts the radius of a circle from the user and compute the area.\n",
    "print(\"...Finding Area of Circle....\")\n",
    "pi= 3.142\n",
    "radius= float(input(\"Enter the radius of the Circle: \"))\n",
    "Area_Of_Circle= float(pi*(radius**2))\n",
    "\n",
    "\n",
    "print(\"Area of the Circle is : %.2f\" %Area_Of_Circle)\n"
   ]
  },
  {
   "cell_type": "code",
   "execution_count": 29,
   "id": "e42dbe17",
   "metadata": {},
   "outputs": [
    {
     "name": "stdout",
     "output_type": "stream",
     "text": [
      ".......Program of Reverse string........\n",
      "Enter your First Name: Hira\n",
      "Enter your Last Name: Mushtaq\n",
      "Your Reverse Sting is : Mushtaq Hira\n"
     ]
    }
   ],
   "source": [
    "# Write a python program which accepts the user's first and last name and print them in reverse order with a space between them.\n",
    "print(\".......Program of Reverse string........\")\n",
    "First_Name=input(\"Enter your First Name: \")\n",
    "Last_Name= input(\"Enter your Last Name: \")\n",
    "print(\"Your Reverse Sting is : \"+ Last_Name + \" \" + First_Name)\n"
   ]
  },
  {
   "cell_type": "code",
   "execution_count": 3,
   "id": "d6afa59a",
   "metadata": {},
   "outputs": [
    {
     "name": "stdout",
     "output_type": "stream",
     "text": [
      ".......Program of Reverse string........\n",
      "Enter your First name: Hira\n",
      "ariH\n",
      "Enter your Last name: Mushtaq\n",
      "qathsuM\n",
      "The reverse string of your First and Last Name is   qathsuM ariH\n"
     ]
    }
   ],
   "source": [
    "#-------------Method 2--------------------------------# agr pory variables reverse krny hn tw ye method\n",
    "# Write a python program which accepts the user's first and last name and print them in reverse order with a space between them.\n",
    "\n",
    "print(\".......Program of Reverse string........\")\n",
    "F_N= input(\"Enter your First name: \")\n",
    "rev_str=F_N[::-1]\n",
    "print(rev_str)\n",
    "L_N= input(\"Enter your Last name: \")\n",
    "reverse_str=L_N[::-1]\n",
    "print(reverse_str)\n",
    "print(\"The reverse string of your First and Last Name is  \", reverse_str, rev_str)\n",
    "\n"
   ]
  },
  {
   "cell_type": "code",
   "execution_count": null,
   "id": "70667502",
   "metadata": {},
   "outputs": [],
   "source": []
  },
  {
   "cell_type": "code",
   "execution_count": 27,
   "id": "9da6a72f",
   "metadata": {},
   "outputs": [
    {
     "name": "stdout",
     "output_type": "stream",
     "text": [
      ".....Program of Addition.......\n",
      "Enter First Number: 32\n",
      "Enter Second Number: 57\n",
      "Addition of these two numbers are:  89\n"
     ]
    }
   ],
   "source": [
    "# Write a python program which takes two input from user and print them addition.\n",
    "print(\".....Program of Addition.......\")\n",
    "First_No= int(input(\"Enter First Number: \"))\n",
    "Second_No=int(input(\"Enter Second Number: \"))\n",
    "Addition= First_No+Second_No\n",
    "print(\"Addition of these two numbers are: \" ,Addition)\n"
   ]
  },
  {
   "cell_type": "code",
   "execution_count": 25,
   "id": "d5036ceb",
   "metadata": {},
   "outputs": [
    {
     "name": "stdout",
     "output_type": "stream",
     "text": [
      "................Mark Sheet.............\n",
      "Enter Maths Marks: 98\n",
      "Enter Islamiat Marks: 89\n",
      "Enter English Marks: 87\n",
      "Enter Science Marks: 98\n",
      "Enter Urdu Marks: 88\n",
      "Obtained Marks:  460\n",
      "Your Percentage is : 92.00 \n",
      "A+ Grade.... Marvellous! You are Incredible\n",
      "Your Total Marks are  460 Out of 500 and Your Percentage is : 92.00 \n"
     ]
    }
   ],
   "source": [
    "# Write a python program which takes 5 input from user for different subject's marks, total it and generate marksheet using grade.\n",
    "print(\"................Mark Sheet.............\")\n",
    "Total_Marks=500\n",
    "Maths= int(input(\"Enter Maths Marks: \"))\n",
    "Islamiat= int(input(\"Enter Islamiat Marks: \"))\n",
    "English= int(input(\"Enter English Marks: \"))\n",
    "Science= int(input(\"Enter Science Marks: \"))\n",
    "Urdu=int(input(\"Enter Urdu Marks: \"))\n",
    "Obtained_Marks= Maths+Islamiat+English+Science+Urdu\n",
    "print(\"Obtained Marks: \", Obtained_Marks)\n",
    "percent= (Obtained_Marks/Total_Marks)*100\n",
    "print(\"Your Percentage is : %.2f \" %percent)\n",
    "if percent>=80 and percent <100:\n",
    "    print(\"A+ Grade.... Marvellous! You are Incredible\")\n",
    "elif percent >=70 and percent <80:\n",
    "    print(\"A Grade.... Awesome..Keep it up\")\n",
    "elif percent >=60 and percent <70:\n",
    "    print(\"B Grade.... Good! You can acheive more\")\n",
    "elif percent >=50 and percent <60:\n",
    "    print(\"C Grade....Not satisfied with your progress\")\n",
    "elif percent >=40 and percent <50:\n",
    "    print(\"D Grade..... Poor performance\")\n",
    "elif percent >=30 and percent<40:\n",
    "    print(\"E Grade... Promoted\")\n",
    "else:\n",
    "    print(\"Fail\")\n",
    "    \n",
    "print(\"Your Total Marks are \", Obtained_Marks, \"Out of 500 and Your Percentage is : %.2f \" %percent)\n"
   ]
  },
  {
   "cell_type": "code",
   "execution_count": 26,
   "id": "a18d6a4a",
   "metadata": {},
   "outputs": [
    {
     "name": "stdout",
     "output_type": "stream",
     "text": [
      "....Identify the number.......\n",
      "Enter any number: 56\n",
      "The Given Number is Even\n"
     ]
    }
   ],
   "source": [
    "# Write a python program which take input from the user and identify that the given number is even or odd.\n",
    "print(\"....Identify the number.......\")\n",
    "Num=int(input(\"Enter any number: \"))\n",
    "if (Num%2)==0:\n",
    "    print(\"The Given Number is Even\")\n",
    "else:\n",
    "    print(\"The Given Number is Odd\")"
   ]
  },
  {
   "cell_type": "code",
   "execution_count": 6,
   "id": "c7e3db7d",
   "metadata": {},
   "outputs": [
    {
     "name": "stdout",
     "output_type": "stream",
     "text": [
      "......Finding Length........\n",
      "The Length of a List is:  10\n"
     ]
    }
   ],
   "source": [
    "# Write a python program which prints the length of a list.\n",
    "print(\"......Finding Length........\")\n",
    "arr=[\"Hira\",20,\"Abuzar\",20,\"Usama\",20,\"Laveezah\",18,\"Asna\",21]\n",
    "print(\"The Length of a List is: \",len(arr))\n",
    "\n"
   ]
  },
  {
   "cell_type": "code",
   "execution_count": 15,
   "id": "1a61510a",
   "metadata": {},
   "outputs": [
    {
     "name": "stdout",
     "output_type": "stream",
     "text": [
      "....Method 1.....\n",
      "...Program to print sum of numeric items in a list...\n",
      "The Sum of all numeric items in a List is  99\n"
     ]
    }
   ],
   "source": [
    "# Write a python program to sum all the numeric items in a list.\n",
    "print(\"....Method 1.....\")\n",
    "print(\"...Program to print sum of numeric items in a list...\")\n",
    "def func(l):\n",
    "    return sum([int(i) for i in l if type(i)== int or i.isdigit()])\n",
    "arr= [\"Hira\",20,\"Abuzar\",20,\"Usama\",20,\"Laveezah\",18,\"Asna\",21]\n",
    "print(\"The Sum of all numeric items in a List is \",func(arr))\n"
   ]
  },
  {
   "cell_type": "code",
   "execution_count": 13,
   "id": "65f966b7",
   "metadata": {},
   "outputs": [
    {
     "name": "stdout",
     "output_type": "stream",
     "text": [
      "........Method 2......\n",
      "...Program to print sum of numeric items in a list...\n",
      "The Sum of all numeric items in a List is  99\n"
     ]
    }
   ],
   "source": [
    "# Write a python program to sum all the numeric items in a list.\n",
    "print(\"........Method 2......\")\n",
    "print(\"...Program to print sum of numeric items in a list...\")\n",
    "arr=[20,20,20,18,21]\n",
    "print(\"The Sum of all numeric items in a List is \",sum(arr))\n",
    "\n",
    "\n"
   ]
  },
  {
   "cell_type": "code",
   "execution_count": 11,
   "id": "8f2b608c",
   "metadata": {},
   "outputs": [
    {
     "name": "stdout",
     "output_type": "stream",
     "text": [
      ".....Largest Number.......\n",
      "The Largest number from a numeric list is 98\n"
     ]
    }
   ],
   "source": [
    "# Write a python program to get the largest number from a numeric list.\n",
    "print(\".....Largest Number.......\")\n",
    "arr=[20,98,62,41,12]\n",
    "print(\"The Largest number from a numeric list is\",max(arr))\n",
    "\n"
   ]
  },
  {
   "cell_type": "code",
   "execution_count": 12,
   "id": "b71b83b9",
   "metadata": {},
   "outputs": [
    {
     "name": "stdout",
     "output_type": "stream",
     "text": [
      ".....Numbers less than 5 in  list....\n",
      "The numbers that are less than 5 in a List are  [1, 1, 2, 3]\n"
     ]
    }
   ],
   "source": [
    "# Take a List, say for example thisa one.a=[1,1,2,3,5,8,13,21,34, 55, 89].\n",
    "# write a program that prints out all the elements of the list that are less than 5.\n",
    "print(\".....Numbers less than 5 in  list....\")\n",
    "arr=[1,1,2,3,5,8,13,21,34,55,89]\n",
    "num=[i for i in arr if i <5]\n",
    "print(\"The numbers that are less than 5 in a List are \",num)\n"
   ]
  },
  {
   "cell_type": "code",
   "execution_count": null,
   "id": "046644c9",
   "metadata": {},
   "outputs": [],
   "source": []
  }
 ],
 "metadata": {
  "kernelspec": {
   "display_name": "Python 3",
   "language": "python",
   "name": "python3"
  },
  "language_info": {
   "codemirror_mode": {
    "name": "ipython",
    "version": 3
   },
   "file_extension": ".py",
   "mimetype": "text/x-python",
   "name": "python",
   "nbconvert_exporter": "python",
   "pygments_lexer": "ipython3",
   "version": "3.8.8"
  }
 },
 "nbformat": 4,
 "nbformat_minor": 5
}
